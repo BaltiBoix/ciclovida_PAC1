{
 "cells": [
  {
   "cell_type": "markdown",
   "metadata": {},
   "source": [
    "<p style=\"font-family: times, serif; font-size:16pt; color:blue\">Web scraping. Tipología y ciclo de vida de los datos aula 2- PRA1</p>\n",
    "<div style=\"font-family: times, serif; font-size:12pt; text-align: right\">Baltasar Boix y Yago Ezcurra, abril 2021</div>"
   ]
  },
  {
   "cell_type": "code",
   "execution_count": null,
   "metadata": {},
   "outputs": [],
   "source": [
    "import io\n",
    "import pandas as pd\n",
    "import requests\n",
    "from bs4 import BeautifulSoup\n",
    "import re"
   ]
  },
  {
   "cell_type": "markdown",
   "metadata": {},
   "source": [
    "<p style=\"font-family: times, serif; font-size:12pt; color:blue\">Descarga de la página Web del Portal oficial de turismo de España:\n",
    "<a href=\"https://www.spain.info/es/consulta/monumentos-historicos-espana/\">Monumentos de España</a></p>"
   ]
  },
  {
   "cell_type": "code",
   "execution_count": null,
   "metadata": {},
   "outputs": [],
   "source": [
    "def get_list_monumentos(link, params):\n",
    "    with requests.Session() as s:\n",
    "        res = requests.get(link, params=params)\n",
    "        s.cookies.clear()\n",
    "    if res.status_code==200:\n",
    "        print('success', res.url)\n",
    "    else:\n",
    "        print('fail', res.url)\n",
    "    #print(res.cookies)\n",
    "    x = BeautifulSoup(res.text).find_all('div', class_=\"wrapper-lista-resultados\")[0]\n",
    "    lst1 = [y.get_text() for y in x.find_all('p')]\n",
    "    lst2 = [y['href'] for y in x.find_all('a')]\n",
    "    return pd.DataFrame(list(zip(lst1, lst2)), columns =['Name', 'href'])"
   ]
  },
  {
   "cell_type": "markdown",
   "metadata": {},
   "source": [
    "<p style=\"font-family: times, serif; font-size:12pt; color:blue\">Bucle de lectura de todas las páginas</p>"
   ]
  },
  {
   "cell_type": "code",
   "execution_count": null,
   "metadata": {},
   "outputs": [],
   "source": [
    "df = get_list_monumentos('https://www.spain.info/es/consulta/monumentos-historicos-espana/?reloaded', {})\n",
    "for i in range(2, 1723//50+1):\n",
    "    df = df.append(get_list_monumentos('https://www.spain.info/es/consulta/monumentos-historicos-espana/?reloaded', \n",
    "                              {'page': i, 'rpp': 50}), ignore_index = True)\n",
    "df.drop_duplicates(inplace=True)\n",
    "df = df.reset_index(drop=True)"
   ]
  },
  {
   "cell_type": "code",
   "execution_count": null,
   "metadata": {},
   "outputs": [],
   "source": [
    "df"
   ]
  },
  {
   "cell_type": "markdown",
   "metadata": {},
   "source": [
    "<p style=\"font-family: times, serif; font-size:12pt; color:blue\">Lectura de datos de cada monumento obtenido en el paso anterior.</p>"
   ]
  },
  {
   "cell_type": "code",
   "execution_count": null,
   "metadata": {},
   "outputs": [],
   "source": [
    "def get_monumento(link):\n",
    "    link = 'https://www.spain.info' + link\n",
    "    with requests.Session() as s:\n",
    "        res = s.get(link)\n",
    "        s.cookies.clear()\n",
    "    if res.status_code==200:\n",
    "        print('success', res.url)\n",
    "    else:\n",
    "        print('fail', res.url)\n",
    "    x0 = BeautifulSoup(res.text)\n",
    "    x = x0.find_all('script')\n",
    "    st = re.search(r'(?<=\\{)([^}]+)(?=\\})', str(x[2])).group(0)\n",
    "    d = eval('{'+re.sub(' *\\n|\\t', '', st)+'}')\n",
    "    if re.search(r'(?<=setView\\()([^)]+)(?=\\))', str(x[5])) is not None:\n",
    "        st = re.search(r'(?<=setView\\()([^)]+)(?=\\))', str(x[5])).group(0)\n",
    "        d['coordenadas'] = [re.search(r'(?<=\\[)([^\\]]+)(?=\\])', st).group(0).split(',')]\n",
    "    else:\n",
    "        d['coordenadas'] = [['ND', 'ND']]\n",
    "    del d['tipo-recurso']; del d['tipo-plantilla']; del d['zona-turistica']; del d['objetivo']\n",
    "    del d['url-es']; del d['eje-primario']; del d['eje-secundario']; del d['category']\n",
    "    if x0.find('section', class_=\"module entradilla\").find('p', class_='text-secundario') != None:\n",
    "        d['descripcion'] = re.sub(' *\\n|\\t', '', x0.find('section', \n",
    "                                                     class_=\"module entradilla\").\n",
    "                              find('p', class_='text-secundario').get_text())\n",
    "    else:\n",
    "        d['descripcion'] = ''\n",
    "    x1 = x0.find_all('div', class_=\"title-box\")\n",
    "    d['direccion'] = [re.sub(' *\\n|\\t', '', x1[3].p.get_text()).split('\\xa0')]\n",
    "    #print(d)\n",
    "    return pd.DataFrame.from_dict(d)"
   ]
  },
  {
   "cell_type": "code",
   "execution_count": null,
   "metadata": {},
   "outputs": [],
   "source": [
    "df1 = get_monumento(df.iloc[0,1])\n",
    "for link in df.iloc[1:,1]:\n",
    "    df1 = df1.append(get_monumento(link), ignore_index = True)"
   ]
  },
  {
   "cell_type": "markdown",
   "metadata": {},
   "source": [
    "<p style=\"font-family: times, serif; font-size:12pt; color:blue\">Eliminamos espacios en blanco al principio y final de los campos provincia, comunidad y municipio.</p>"
   ]
  },
  {
   "cell_type": "code",
   "execution_count": null,
   "metadata": {},
   "outputs": [],
   "source": [
    "df1.provincia = df1.provincia.str.strip()\n",
    "df1.comunidad = df1.comunidad.str.strip()\n",
    "df1.municipio = df1.municipio.str.strip()\n",
    "df1.drop('detalle', axis=1, inplace=True)"
   ]
  },
  {
   "cell_type": "markdown",
   "metadata": {},
   "source": [
    "<p style=\"font-family: times, serif; font-size:12pt; color:blue\">Transformamos las coordenadas en formato texto en los campos latitude y longitude numéricos.</p>"
   ]
  },
  {
   "cell_type": "code",
   "execution_count": null,
   "metadata": {},
   "outputs": [],
   "source": [
    "df1[['latitude', 'longitude']] = pd.DataFrame(df1.coordenadas.to_list(), columns=['latitude', 'longitude'], index=df1.index)\n",
    "df1.latitude = pd.to_numeric(df1.latitude, errors='coerce')\n",
    "df1.longitude = pd.to_numeric(df1.longitude, errors='coerce')\n",
    "df1.drop('coordenadas', axis=1, inplace=True)"
   ]
  },
  {
   "cell_type": "markdown",
   "metadata": {},
   "source": [
    "<p style=\"font-family: times, serif; font-size:12pt; color:blue\">Fusionamos los dataframes y generamos el fichero <b>monumentos_espana.csv</b>.</p>"
   ]
  },
  {
   "cell_type": "code",
   "execution_count": null,
   "metadata": {},
   "outputs": [],
   "source": [
    "df2 = pd.concat([df,df1], axis=1)"
   ]
  },
  {
   "cell_type": "code",
   "execution_count": null,
   "metadata": {},
   "outputs": [],
   "source": [
    "df2.to_csv('monumentos_espana.csv', index_label='id')"
   ]
  }
 ],
 "metadata": {
  "kernelspec": {
   "display_name": "Python 3.8.1 64-bit",
   "language": "python",
   "name": "python38164bit01ef249469ed4f9c9f77aae518cd790b"
  },
  "language_info": {
   "codemirror_mode": {
    "name": "ipython",
    "version": 3
   },
   "file_extension": ".py",
   "mimetype": "text/x-python",
   "name": "python",
   "nbconvert_exporter": "python",
   "pygments_lexer": "ipython3",
   "version": "3.8.1"
  }
 },
 "nbformat": 4,
 "nbformat_minor": 4
}
