{
 "cells": [
  {
   "cell_type": "code",
   "execution_count": null,
   "metadata": {},
   "outputs": [],
   "source": [
    "import pandas as pd\n",
    "import requests\n",
    "from bs4 import BeautifulSoup\n"
   ]
  },
  {
   "cell_type": "code",
   "execution_count": null,
   "metadata": {},
   "outputs": [],
   "source": [
    "res1 = requests.get('https://es.wikipedia.org/wiki/Anexo:Patrimonio_de_la_Humanidad_en_España')\n",
    "if res1.status_code==200:\n",
    "    print('success')\n",
    "else:\n",
    "    print('fail')\n",
    "print(res1.encoding)"
   ]
  },
  {
   "cell_type": "code",
   "execution_count": null,
   "metadata": {},
   "outputs": [],
   "source": [
    "x = BeautifulSoup(res1.text)"
   ]
  },
  {
   "cell_type": "code",
   "execution_count": null,
   "metadata": {},
   "outputs": [],
   "source": [
    "y = x.find_all('table')[1]"
   ]
  },
  {
   "cell_type": "code",
   "execution_count": null,
   "metadata": {},
   "outputs": [],
   "source": [
    "A = []\n",
    "for i in y.find_all('tr'):\n",
    "    #print(i)\n",
    "    if i.td is not None:\n",
    "        a = []\n",
    "        print('\\n')\n",
    "        for j in i.find_all('td'):\n",
    "            if j.a is not None:\n",
    "                b = []\n",
    "                for k in j.find_all('a'):\n",
    "                    if k.text.strip() != '':\n",
    "                        b.append(k.text)\n",
    "                        print(k.text, end=' ')\n",
    "                if b:\n",
    "                    a.append(b)\n",
    "                    print('\\n')\n",
    "            else:\n",
    "                a.append(j.text.rstrip())\n",
    "                print(j.text)\n",
    "        A.append(a)\n"
   ]
  },
  {
   "cell_type": "code",
   "execution_count": null,
   "metadata": {},
   "outputs": [],
   "source": [
    "A"
   ]
  },
  {
   "cell_type": "code",
   "execution_count": null,
   "metadata": {},
   "outputs": [],
   "source": [
    "with open('monumentos.csv', 'w') as f:\n",
    "    f.write('tipo,año,nombre,localización\\n')\n",
    "    for a in A:\n",
    "        for yy in a[1]:\n",
    "            for m in a[2]:\n",
    "                if m.find(',') > 0:\n",
    "                    m1 = '\"' + m + '\"'\n",
    "                else:\n",
    "                    m1 = m\n",
    "                for c in a[3]:\n",
    "                    f.write('{},{},{},{}\\n'.format(a[0],yy, m1, c))"
   ]
  }
 ],
 "metadata": {
  "kernelspec": {
   "display_name": "Python 3.8.1 64-bit",
   "language": "python",
   "name": "python38164bit01ef249469ed4f9c9f77aae518cd790b"
  },
  "language_info": {
   "codemirror_mode": {
    "name": "ipython",
    "version": 3
   },
   "file_extension": ".py",
   "mimetype": "text/x-python",
   "name": "python",
   "nbconvert_exporter": "python",
   "pygments_lexer": "ipython3",
   "version": "3.8.1"
  }
 },
 "nbformat": 4,
 "nbformat_minor": 4
}
